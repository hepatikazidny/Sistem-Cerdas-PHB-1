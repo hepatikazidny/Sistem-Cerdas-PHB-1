{
 "cells": [
  {
   "cell_type": "code",
   "execution_count": 11,
   "metadata": {
    "ExecuteTime": {
     "end_time": "2020-10-21T03:33:21.311368Z",
     "start_time": "2020-10-21T03:33:21.247588Z"
    }
   },
   "outputs": [
    {
     "name": "stdout",
     "output_type": "stream",
     "text": [
      "  Gender              Race  Birth_Year Marital_Status  Years_on_Internet  \\\n",
      "0      M             White        1972              M                  8   \n",
      "1      M          Hispanic        1981              S                 14   \n",
      "2      F  African American        1977              S                  6   \n",
      "3      F             White        1961              D                  8   \n",
      "4      M             White        1954              M                  2   \n",
      "\n",
      "   Hours_Per_Day  Preferred_Browser Preferred_Search_Engine Preferred_Email  \\\n",
      "0              1            Firefox                  Google           Yahoo   \n",
      "1              2             Chrome                  Google         Hotmail   \n",
      "2              2            Firefox                   Yahoo           Yahoo   \n",
      "3              6            Firefox                  Google         Hotmail   \n",
      "4              3  Internet Explorer                    Bing         Hotmail   \n",
      "\n",
      "  Read_News Online_Shopping Online_Gaming Facebook Twitter  \\\n",
      "0         Y               N             N        Y       N   \n",
      "1         Y               N             N        Y       N   \n",
      "2         Y               Y           NaN        Y       N   \n",
      "3         N               Y             N        N       Y   \n",
      "4         Y               Y             N        Y       N   \n",
      "\n",
      "  Other_Social_Network  \n",
      "0                  NaN  \n",
      "1                 Face  \n",
      "2                   FB  \n",
      "3               Fesbuk  \n",
      "4                  NaN  \n"
     ]
    }
   ],
   "source": [
    "import pandas as pd\n",
    "import numpy as np\n",
    "\n",
    "# Read csv file pake dataframe, kasih delimiter\n",
    "df = pd.read_csv(\"MissingDataSet-Noisy-Multiple.csv\",delimiter = \";\")\n",
    "\n",
    "# kalau pake head itu untuk liatin beberapa row aja\n",
    "print (df.head())"
   ]
  },
  {
   "cell_type": "code",
   "execution_count": 12,
   "metadata": {
    "ExecuteTime": {
     "end_time": "2020-10-21T03:34:56.820463Z",
     "start_time": "2020-10-21T03:34:56.805432Z"
    }
   },
   "outputs": [
    {
     "name": "stdout",
     "output_type": "stream",
     "text": [
      "0                White\n",
      "1             Hispanic\n",
      "2     African American\n",
      "3                White\n",
      "4                White\n",
      "5     African American\n",
      "6     African American\n",
      "7                White\n",
      "8     African American\n",
      "9                White\n",
      "10            Hispanic\n",
      "Name: Race, dtype: object\n"
     ]
    }
   ],
   "source": [
    "# mencari missing value dengan isnull pandas\n",
    "print (df['Race'])"
   ]
  },
  {
   "cell_type": "code",
   "execution_count": 13,
   "metadata": {
    "ExecuteTime": {
     "end_time": "2020-10-21T03:35:34.952835Z",
     "start_time": "2020-10-21T03:35:34.938435Z"
    }
   },
   "outputs": [
    {
     "name": "stdout",
     "output_type": "stream",
     "text": [
      "0     False\n",
      "1     False\n",
      "2     False\n",
      "3     False\n",
      "4     False\n",
      "5     False\n",
      "6     False\n",
      "7     False\n",
      "8     False\n",
      "9     False\n",
      "10    False\n",
      "Name: Race, dtype: bool\n"
     ]
    }
   ],
   "source": [
    "print (df['Race'].isnull())"
   ]
  },
  {
   "cell_type": "code",
   "execution_count": 14,
   "metadata": {
    "ExecuteTime": {
     "end_time": "2020-10-21T03:36:22.059241Z",
     "start_time": "2020-10-21T03:36:22.040420Z"
    }
   },
   "outputs": [
    {
     "name": "stdout",
     "output_type": "stream",
     "text": [
      "0       N\n",
      "1       N\n",
      "2     NaN\n",
      "3       N\n",
      "4       N\n",
      "5       Y\n",
      "6     765\n",
      "7     NaN\n",
      "8       N\n",
      "9       Y\n",
      "10      N\n",
      "Name: Online_Gaming, dtype: object\n"
     ]
    }
   ],
   "source": [
    "# mencari missing value dengan isnull pandas\n",
    "print (df['Online_Gaming'])"
   ]
  },
  {
   "cell_type": "code",
   "execution_count": 15,
   "metadata": {
    "ExecuteTime": {
     "end_time": "2020-10-21T03:36:35.722654Z",
     "start_time": "2020-10-21T03:36:35.706221Z"
    }
   },
   "outputs": [
    {
     "name": "stdout",
     "output_type": "stream",
     "text": [
      "0     False\n",
      "1     False\n",
      "2      True\n",
      "3     False\n",
      "4     False\n",
      "5     False\n",
      "6     False\n",
      "7      True\n",
      "8     False\n",
      "9     False\n",
      "10    False\n",
      "Name: Online_Gaming, dtype: bool\n"
     ]
    }
   ],
   "source": [
    "print (df['Online_Gaming'].isnull())"
   ]
  },
  {
   "cell_type": "code",
   "execution_count": 16,
   "metadata": {
    "ExecuteTime": {
     "end_time": "2020-10-21T03:38:34.332351Z",
     "start_time": "2020-10-21T03:38:34.308769Z"
    }
   },
   "outputs": [
    {
     "name": "stdout",
     "output_type": "stream",
     "text": [
      "Gender                     0\n",
      "Race                       0\n",
      "Birth_Year                 0\n",
      "Marital_Status             0\n",
      "Years_on_Internet          0\n",
      "Hours_Per_Day              0\n",
      "Preferred_Browser          0\n",
      "Preferred_Search_Engine    0\n",
      "Preferred_Email            0\n",
      "Read_News                  0\n",
      "Online_Shopping            1\n",
      "Online_Gaming              2\n",
      "Facebook                   0\n",
      "Twitter                    0\n",
      "Other_Social_Network       4\n",
      "dtype: int64\n"
     ]
    }
   ],
   "source": [
    "# Total missing values\n",
    "print (df.isnull().sum())"
   ]
  },
  {
   "cell_type": "code",
   "execution_count": 17,
   "metadata": {
    "ExecuteTime": {
     "end_time": "2020-10-21T03:40:03.208746Z",
     "start_time": "2020-10-21T03:40:03.141823Z"
    }
   },
   "outputs": [
    {
     "data": {
      "text/plain": [
       "0       N\n",
       "1       N\n",
       "2       N\n",
       "3       N\n",
       "4       N\n",
       "5       Y\n",
       "6     765\n",
       "7       N\n",
       "8       N\n",
       "9       Y\n",
       "10      N\n",
       "Name: Online_Gaming, dtype: object"
      ]
     },
     "execution_count": 17,
     "metadata": {},
     "output_type": "execute_result"
    }
   ],
   "source": [
    "# Replace missing values pake random\n",
    "df['Online_Gaming'].fillna(np.random.choice(['Y','N']))"
   ]
  },
  {
   "cell_type": "code",
   "execution_count": 23,
   "metadata": {
    "ExecuteTime": {
     "end_time": "2020-10-21T03:42:34.736656Z",
     "start_time": "2020-10-21T03:42:34.705234Z"
    }
   },
   "outputs": [
    {
     "data": {
      "text/plain": [
       "0     N\n",
       "1     N\n",
       "2     N\n",
       "3     N\n",
       "4     N\n",
       "5     Y\n",
       "6     Y\n",
       "7     N\n",
       "8     N\n",
       "9     Y\n",
       "10    N\n",
       "Name: Online_Gaming, dtype: object"
      ]
     },
     "execution_count": 23,
     "metadata": {},
     "output_type": "execute_result"
    }
   ],
   "source": [
    "# Berdasarkan lokasinya\n",
    "df.loc[6,'Online_Gaming'] = \"Y\"\n",
    "df['Online_Gaming'].fillna(np.random.choice(['Y','N']))"
   ]
  },
  {
   "cell_type": "code",
   "execution_count": null,
   "metadata": {},
   "outputs": [],
   "source": [
    "#bisa juga replace pake median (kasus angka)\n",
    "# df['Birth_Year'].fillna(median, inplace=True)"
   ]
  },
  {
   "cell_type": "code",
   "execution_count": 3,
   "metadata": {
    "ExecuteTime": {
     "end_time": "2020-10-21T01:57:43.091768Z",
     "start_time": "2020-10-21T01:57:43.048605Z"
    }
   },
   "outputs": [],
   "source": [
    "import pandas as pd\n",
    "\n",
    "read_file = pd.read_csv (r'property data.txt', header = None)\n",
    "read_file.columns = ['PID','ST_NUM','ST_NAME','OWN_OCCUPIED','NUM_BEDROOMS','NUM_BATH','SQ_FT']\n",
    "read_file.to_csv (r'property data.csv', index=None)"
   ]
  },
  {
   "cell_type": "code",
   "execution_count": null,
   "metadata": {
    "ExecuteTime": {
     "end_time": "2020-10-21T02:01:45.186554Z",
     "start_time": "2020-10-21T02:01:45.136643Z"
    }
   },
   "outputs": [],
   "source": []
  },
  {
   "cell_type": "code",
   "execution_count": null,
   "metadata": {
    "ExecuteTime": {
     "end_time": "2020-10-21T03:59:45.842870Z",
     "start_time": "2020-10-21T03:59:45.282870Z"
    }
   },
   "outputs": [],
   "source": []
  },
  {
   "cell_type": "code",
   "execution_count": null,
   "metadata": {
    "ExecuteTime": {
     "end_time": "2020-10-21T02:03:00.316306Z",
     "start_time": "2020-10-21T02:03:00.288390Z"
    }
   },
   "outputs": [],
   "source": []
  },
  {
   "cell_type": "code",
   "execution_count": null,
   "metadata": {},
   "outputs": [],
   "source": []
  }
 ],
 "metadata": {
  "kernelspec": {
   "display_name": "Python 3",
   "language": "python",
   "name": "python3"
  },
  "language_info": {
   "codemirror_mode": {
    "name": "ipython",
    "version": 3
   },
   "file_extension": ".py",
   "mimetype": "text/x-python",
   "name": "python",
   "nbconvert_exporter": "python",
   "pygments_lexer": "ipython3",
   "version": "3.7.3"
  },
  "varInspector": {
   "cols": {
    "lenName": 16,
    "lenType": 16,
    "lenVar": 40
   },
   "kernels_config": {
    "python": {
     "delete_cmd_postfix": "",
     "delete_cmd_prefix": "del ",
     "library": "var_list.py",
     "varRefreshCmd": "print(var_dic_list())"
    },
    "r": {
     "delete_cmd_postfix": ") ",
     "delete_cmd_prefix": "rm(",
     "library": "var_list.r",
     "varRefreshCmd": "cat(var_dic_list()) "
    }
   },
   "types_to_exclude": [
    "module",
    "function",
    "builtin_function_or_method",
    "instance",
    "_Feature"
   ],
   "window_display": false
  }
 },
 "nbformat": 4,
 "nbformat_minor": 2
}
