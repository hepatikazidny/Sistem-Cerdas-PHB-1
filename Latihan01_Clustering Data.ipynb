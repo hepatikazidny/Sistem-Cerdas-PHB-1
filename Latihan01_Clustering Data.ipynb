{
 "cells": [
  {
   "cell_type": "markdown",
   "metadata": {},
   "source": [
    "# Tulis Jawaban pada Tempat yang Telah Disediakan"
   ]
  },
  {
   "cell_type": "markdown",
   "metadata": {},
   "source": [
    "*Terdapat beberapa repositori dataset salah satunya yang berisi ekstraksi acak <i>gene expression</i> pasien yang memiliki berbagai jenis tumor. Karena data memiliki cukup banyak fitur, gunakan 5 fitur pertama saja, <i>link</i> : https://archive.ics.uci.edu/ml/datasets/gene+expression+cancer+RNA-Seq#\n",
    "\n",
    "*Boleh juga menggunakan Load data Iris\n",
    "\n",
    "*Boleh mencari data lain selain Iris dan Gene Expression Cancer\n",
    "\n",
    "*cantumkan pada referensi asal dataset"
   ]
  },
  {
   "cell_type": "markdown",
   "metadata": {},
   "source": [
    "Jika dalam menyelesaikan tugas ini Anda berkolaborasi dengan orang lain, silahkan tuliskan dengan siapa Anda berkolaborasi (pada baris ini)!"
   ]
  },
  {
   "cell_type": "markdown",
   "metadata": {},
   "source": [
    "Kolaborator: ..."
   ]
  },
  {
   "cell_type": "markdown",
   "metadata": {},
   "source": [
    "Jika dalam menyelesaikan tugas ini, Anda menggunakan referensi dari halaman situs di internet, silahkan tuliskan link halaman situs tersebut (pada baris ini)!"
   ]
  },
  {
   "cell_type": "markdown",
   "metadata": {},
   "source": [
    "Referensi: ..."
   ]
  },
  {
   "cell_type": "markdown",
   "metadata": {},
   "source": [
    "## Soal"
   ]
  },
  {
   "cell_type": "markdown",
   "metadata": {},
   "source": [
    "1. Lakukan <i>clustering</i> dengan menggunakan <b>metode unsupervised learning yang ada</b> (boleh menggunakan <i>library</i>) dengan ketentuan :\n",
    "        a. jumlah cluster (k) adalah 5;\n",
    "        b. Cukup 1 metode unsupevised learning\n",
    "        c. Implementasikan dengan bahasa yang ada kuasai\n",
    "\n",
    "\n",
    "2. <i>Plotting</i> (2D) hasil <i>clustering</i> yang anda peroleh pada soal nomor 1 dengan menggunakan <i>scatter plot</i>!\n"
   ]
  },
  {
   "cell_type": "markdown",
   "metadata": {},
   "source": [
    "# Jawaban"
   ]
  },
  {
   "cell_type": "code",
   "execution_count": null,
   "metadata": {},
   "outputs": [],
   "source": [
    "#enter your code here#\n"
   ]
  }
 ],
 "metadata": {
  "kernelspec": {
   "display_name": "Python 3",
   "language": "python",
   "name": "python3"
  },
  "language_info": {
   "codemirror_mode": {
    "name": "ipython",
    "version": 3
   },
   "file_extension": ".py",
   "mimetype": "text/x-python",
   "name": "python",
   "nbconvert_exporter": "python",
   "pygments_lexer": "ipython3",
   "version": "3.7.3"
  },
  "varInspector": {
   "cols": {
    "lenName": 16,
    "lenType": 16,
    "lenVar": 40
   },
   "kernels_config": {
    "python": {
     "delete_cmd_postfix": "",
     "delete_cmd_prefix": "del ",
     "library": "var_list.py",
     "varRefreshCmd": "print(var_dic_list())"
    },
    "r": {
     "delete_cmd_postfix": ") ",
     "delete_cmd_prefix": "rm(",
     "library": "var_list.r",
     "varRefreshCmd": "cat(var_dic_list()) "
    }
   },
   "types_to_exclude": [
    "module",
    "function",
    "builtin_function_or_method",
    "instance",
    "_Feature"
   ],
   "window_display": false
  }
 },
 "nbformat": 4,
 "nbformat_minor": 2
}
